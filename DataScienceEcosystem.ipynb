{
 "cells": [
  {
   "cell_type": "markdown",
   "id": "445b79ff-524b-461e-aaca-4d78963af9c9",
   "metadata": {},
   "source": [
    "# Data Science Tools and Ecosystem"
   ]
  },
  {
   "cell_type": "markdown",
   "id": "bcff6981-2b5c-45d6-b1a3-234d05992d08",
   "metadata": {},
   "source": [
    "In this notebook, Data Science Tools and Ecosystem are Summarized"
   ]
  },
  {
   "cell_type": "markdown",
   "id": "4805bb0c-38e6-4996-8b80-a0949faaaf4a",
   "metadata": {},
   "source": [
    "Some of the popular languages that Data Science use are:\n",
    "1. R Programming\n",
    "2. Python\n",
    "3. SQL\n",
    "   "
   ]
  },
  {
   "cell_type": "markdown",
   "id": "2579bfe1-9d6e-435d-93a3-b9df4a5e103e",
   "metadata": {},
   "source": [
    "1. Pandas\n",
    "2. PyTorch\n",
    "3. NumPy\n",
    "4. Matplotlib"
   ]
  },
  {
   "cell_type": "markdown",
   "id": "ad8e38db-dc2b-41c4-a1ca-d876282fe348",
   "metadata": {},
   "source": [
    "| Data Science Tools |\n",
    "| -------|\n",
    "| Apache Spark       |\n",
    "| Jupyter Notebook   |\n",
    "| R Studio           |"
   ]
  },
  {
   "cell_type": "markdown",
   "id": "128ba005-832e-432c-9e28-e8ece3fe97fa",
   "metadata": {},
   "source": [
    "### Below are a few examples of evaluating arithmetic expressions in Python"
   ]
  },
  {
   "cell_type": "code",
   "execution_count": 10,
   "id": "fee65307-ebaf-407a-99e1-b66fbd7ee924",
   "metadata": {},
   "outputs": [
    {
     "data": {
      "text/plain": [
       "17"
      ]
     },
     "execution_count": 10,
     "metadata": {},
     "output_type": "execute_result"
    }
   ],
   "source": [
    "# This is a simple arithmetic expression to multiply then add integers\n",
    "(3*4)+5"
   ]
  },
  {
   "cell_type": "code",
   "execution_count": 12,
   "id": "77d99c16-6b03-4630-98ff-58f998d4e208",
   "metadata": {},
   "outputs": [
    {
     "data": {
      "text/plain": [
       "3.3333333333333335"
      ]
     },
     "execution_count": 12,
     "metadata": {},
     "output_type": "execute_result"
    }
   ],
   "source": [
    "# This will convert 200 minutes to hours by dividing by 60\n",
    "200/60"
   ]
  },
  {
   "cell_type": "markdown",
   "id": "dfa9eaad-7902-4f29-a772-d153eb846a80",
   "metadata": {},
   "source": [
    "| Objectives |\n",
    "| -----------|\n",
    "-Kernels\n",
    "-Converting Files\n",
    "-Markdown cells"
   ]
  },
  {
   "cell_type": "markdown",
   "id": "4f1ad3b1-980e-4eef-ae96-a5fa342788d4",
   "metadata": {},
   "source": [
    "# Author\n",
    "Rudy"
   ]
  },
  {
   "cell_type": "code",
   "execution_count": null,
   "id": "d7a55395-b51c-430c-a985-fb96b4587869",
   "metadata": {},
   "outputs": [],
   "source": []
  }
 ],
 "metadata": {
  "kernelspec": {
   "display_name": "Python [conda env:New_work]",
   "language": "python",
   "name": "conda-env-New_work-py"
  },
  "language_info": {
   "codemirror_mode": {
    "name": "ipython",
    "version": 3
   },
   "file_extension": ".py",
   "mimetype": "text/x-python",
   "name": "python",
   "nbconvert_exporter": "python",
   "pygments_lexer": "ipython3",
   "version": "3.12.9"
  }
 },
 "nbformat": 4,
 "nbformat_minor": 5
}
